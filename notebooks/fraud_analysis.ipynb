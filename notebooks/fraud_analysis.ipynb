{
 "cells": [
  {
   "cell_type": "markdown",
   "metadata": {},
   "source": [
    "# Fraud Detection Analysis Notebook\n",
    "## Import and Setup"
   ]
  },
  {
   "cell_type": "code",
   "execution_count": null,
   "metadata": {},
   "outputs": [],
   "source": [
    "import matplotlib.pyplot as plt\n",
    "import seaborn as sns\n",
    "from scripts.data_processor import DataProcessor\n",
    "\n",
    "# Initialize data processor\n",
    "processor = DataProcessor()\n",
    "\n",
    "# Load and process data\n",
    "fraud_raw, ip_raw, credit_raw = processor.load_raw_data()\n",
    "fraud_processed = processor.process_fraud_data(fraud_raw, ip_raw)\n",
    "credit_processed = processor.process_credit_data(credit_raw)"
   ]
  },
  {
   "cell_type": "markdown",
   "metadata": {},
   "source": [
    "## Data Processing Pipeline"
   ]
  },
  {
   "cell_type": "code",
   "execution_count": null,
   "metadata": {},
   "outputs": [],
   "source": [
    "# Handle missing values\\n",
    "fraud_processed = fraud_processed.dropna(subset=['user_id', 'signup_time', 'purchase_time'])\\n",
    "fraud_processed['device_id'] = fraud_processed['device_id'].fillna('unknown')\\n",
    "\\n",
    "# Clean data types\\n",
    "fraud_processed['signup_time'] = pd.to_datetime(fraud_processed['signup_time'])\\n",
    "fraud_processed['purchase_time'] = pd.to_datetime(fraud_processed['purchase_time'])\\n",
    "\\n",
    "# Merge with geolocation data\\n",
    "fraud_processed['ip_address'] = fraud_processed['ip_address'].astype('int64')\\n",
    "fraud_processed = fraud_processed.merge(ip_raw, how='left', left_on='ip_address', right_on='lower_bound_ip_address')\\n",
    "\\n",
    "# Feature engineering\\n",
    "fraud_processed['transaction_velocity'] = fraud_processed.groupby('user_id')['purchase_value'].transform('count')\\n",
    "fraud_processed['hour_of_day'] = fraud_processed['purchase_time'].dt.hour\\n",
    "fraud_processed['day_of_week'] = fraud_processed['purchase_time'].dt.dayofweek\\n",
    "\\n",
    "# Normalize numerical features\\n",
    "fraud_processed['scaled_purchase_value'] = (fraud_processed['purchase_value'] - fraud_processed['purchase_value'].mean()) / fraud_processed['purchase_value'].std()"
   ]
  },
  {
   "cell_type": "markdown",
   "metadata": {},
   "source": [
    "## Exploratory Data Analysis"
   ]
  },
  {
   "cell_type": "code",
   "execution_count": null,
   "metadata": {},
   "outputs": [],
   "source": [
    "# Fraud data visualization\n",
    "plt.figure(figsize=(12, 6))\n",
    "sns.countplot(x='class', data=fraud_processed)\n",
    "plt.title('Class Distribution in E-commerce Data')\n",
    "plt.show()\n",
    "\n",
    "# Credit card data visualization\n",
    "plt.figure(figsize=(12, 6))\n",
    "sns.boxplot(x='Class', y='scaled_amount', data=credit_processed)\n",
    "plt.title('Transaction Amount Distribution by Class')\n",
    "plt.show()"
   ]
  }
 ],
 "metadata": {
  "kernelspec": {
   "display_name": "Python 3",
   "language": "python",
   "name": "python3"
  },
  "language_info": {
   "codemirror_mode": {
    "name": "ipython",
    "version": 3
   },
   "file_extension": ".py",
   "mimetype": "text/x-python",
   "name": "python",
   "nbconvert_exporter": "python",
   "pygments_lexer": "ipython3",
   "version": "3.12.0"
  }
 },
 "nbformat": 4,
 "nbformat_minor": 4
}
